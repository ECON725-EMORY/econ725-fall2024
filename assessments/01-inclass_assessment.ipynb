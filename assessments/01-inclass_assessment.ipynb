{
 "cells": [
  {
   "cell_type": "markdown",
   "metadata": {},
   "source": [
    "# <center>ECON 725: Computer Programming and Data Management in Economics <a class=\"tocSkip\"></center>    \n",
    "# <center>In-class Assessment #1 - Exploring the command line <a class=\"tocSkip\"></center>\n",
    "\n",
    " ---    "
   ]
  },
  {
   "cell_type": "markdown",
   "metadata": {},
   "source": [
    "## About\n",
    "\n",
    "The goal of this activity is to put into practice the shell commands learned in class, including file navigation, file manipulation, and simple scripting.\n"
   ]
  },
  {
   "cell_type": "markdown",
   "metadata": {},
   "source": [
    "## Instructions\n",
    "\n",
    "1.  **Shell Basics**:\n",
    "    -   Open your terminal or command line interface.\n",
    "    -   Identify which shell you are using with the command `echo $SHELL`.\n",
    "    -   Use `man` or `--help` to look up the manual for the `ls` command.\n",
    "2.  **Help!**:\n",
    "    -   For each of the following commands, use `--help` or `man` to find out what they do: `cd`, `mkdir`, `rm`.\n",
    "3.  **Navigating Your System**:\n",
    "    -   Navigate to your home directory using `cd`.\n",
    "    -   List all the files and directories in your home directory with a detailed view using `ls -l`.\n",
    "    -   Create a new directory called `econ725_assessment`. Hint: use `mkdir`.\n",
    "4.  **Managing Your Files**:\n",
    "    -   Inside `econ725_assessment`, create a new file called `my_script.sh`. Hint: use `touch`.\n",
    "    -   Copy any text file from your system (you can use those ones covered in class) into this directory and rename it to `sample.txt`. Hint: use `cp`.\n",
    "5.  **Working with Text Files**:\n",
    "    -   Use `cat` to display the contents of `sample.txt`.\n",
    "    -   Use `head` and `tail` to display the first and last 10 lines of `sample.txt`.\n",
    "6.  **Redirects, Pipes, and Loops**:\n",
    "    -   Redirect the output of `ls -l` to a file named `directory_list.txt`.\n",
    "    -   Use a pipe to sort `directory_list.txt` alphabetically and display the results with `less`.\n",
    "7.  **Scripting**:\n",
    "    -   Edit `my_script.sh` to include a `bash` script that prints \"Hello, Data Science!\" to the terminal.\n",
    "    -   Make `my_script.sh` executable with `chmod` and run it.\n"
   ]
  },
  {
   "cell_type": "markdown",
   "metadata": {},
   "source": [
    "### Submission\n",
    "\n",
    "Compress the `econ725_assessment` directory with all created files into a `.zip` file and submit it through Canvas (See Assignments). - Name the zip file `FirstName_LastName_econ725_assessment.zip`.\n",
    "\n",
    "**Note**: Remember to replace `FirstName` and `LastName` with your actual last and first names."
   ]
  }
 ],
 "metadata": {
  "kernelspec": {
   "display_name": "causal_ml_python",
   "language": "python",
   "name": "python3"
  },
  "language_info": {
   "name": "python",
   "version": "3.10.13"
  }
 },
 "nbformat": 4,
 "nbformat_minor": 2
}
